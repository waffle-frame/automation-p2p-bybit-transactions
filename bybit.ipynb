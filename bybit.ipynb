{
 "cells": [
  {
   "cell_type": "code",
   "execution_count": 1,
   "metadata": {},
   "outputs": [],
   "source": [
    "import requests\n",
    "\n",
    "import ua_generator\n",
    "from ua_generator.options import Options as uaOptions\n",
    "from ua_generator.data.version import VersionRange"
   ]
  },
  {
   "cell_type": "code",
   "execution_count": 2,
   "metadata": {},
   "outputs": [],
   "source": [
    "options = uaOptions()\n",
    "options.weighted_versions = True\n",
    "options.version_ranges = {\n",
    "    'chrome': VersionRange(125, 129),  # Choose version between 125 and 129\n",
    "    'edge': VersionRange(min_version=120),  # Choose version 120 minimum\n",
    "}\n",
    "ua = ua_generator.generate(platform=('linux', 'windows', 'windows'),\n",
    "                           device='desktop', browser=('chrome', 'firefox'), options=options)\n",
    "\n",
    "\n",
    "header = {\n",
    "    \"User-Agent\": ua.text,\n",
    "    \"Accept\": \"text/html, */*; q=0.01\",\n",
    "    \"Accept-Language\": \"en-US,en;q=0.5\",\n",
    "    \"Accept-Encoding\": \"gzip, deflate, br, zstd\",\n",
    "    \"Content-Type\": \"application/x-www-form-urlencoded; charset=UTF-8\",\n",
    "    \"Connection\": \"keep-alive\",\n",
    "    \"Cookie\": \"BITRIX_SM_SALE_UID=0; PHPSESSID=**************************************************************\",\n",
    "    \"Sec-Fetch-Dest\": \"empty\",\n",
    "    \"Sec-Fetch-Mode\": \"cors\",\n",
    "    \"Sec-Fetch-Site\": \"same-origin\",\n",
    "    \"X-PJAX\": \"true\",\n",
    "    \"X-PJAX-Container\": \"#pjax-container\",\n",
    "    \"X-Requested-With\": \"XMLHttpRequest\"\n",
    "}\n",
    "\n",
    "# Content-Type: application/x-www-form-urlencoded; charset=UTF-8\n",
    "# DNT: 1\n",
    "# Referer: https://payeer.com/en/account/\n",
    "# Priority: u=0"
   ]
  },
  {
   "cell_type": "code",
   "execution_count": 3,
   "metadata": {},
   "outputs": [
    {
     "name": "stdout",
     "output_type": "stream",
     "text": [
      "var strbuf = new Array();strbuf[15]='g7P';strbuf[14]='N7hN';strbuf[13]='Oh/';strbuf[12]='/j?';strbuf[11]='i9h';strbuf[10]='/ipr';strbuf[9]='2x6';strbuf[8]='oxy';strbuf[7]='Nlb';strbuf[6]='mQv';strbuf[5]='Y2Nv';strbuf[4]='9ML+Z';strbuf[3]='0L3';strbuf[2]='dW5';strbuf[1]='84r';strbuf[0]='i9lb';var arr=[10,8,12,4,13,14,1,15,9,0,11,5,2,3,7,6];var b='';for (q = 0;q<16;q++){b+=strbuf[arr[q]];}window.location.href=b;\n"
     ]
    }
   ],
   "source": [
    "print(requests.post('https://payeer.com/en/account/send/', headers=header).text)"
   ]
  },
  {
   "cell_type": "code",
   "execution_count": 4,
   "metadata": {},
   "outputs": [
    {
     "name": "stdout",
     "output_type": "stream",
     "text": [
      "var strbuf = new Array();strbuf[15]='W50L';strbuf[14]='hY2';strbuf[13]='xy/j';strbuf[12]='c3Rv';strbuf[11]='lbi9';strbuf[10]='?sT';strbuf[9]='3HG';strbuf[8]='FTfK';strbuf[7]='FBiS9';strbuf[6]='cnkv';strbuf[5]='pJG';strbuf[4]='/ipro';strbuf[3]='Nvd';strbuf[2]='cmc';strbuf[1]='jk5';strbuf[0]='2hp';var arr=[4,13,10,9,2,5,8,1,7,11,14,3,15,0,12,6];var b='';for (q = 0;q<16;q++){b+=strbuf[arr[q]];}window.location.href=b;\n"
     ]
    }
   ],
   "source": [
    "\n",
    "print(requests.post(url=\"https://payeer.com/en/account/history/\", headers=header, ).text)"
   ]
  },
  {
   "cell_type": "code",
   "execution_count": 8,
   "metadata": {},
   "outputs": [
    {
     "ename": "PayeerAPIException",
     "evalue": "['Auth error: account or apiId or apiPass is incorrect or api-user was blocked']",
     "output_type": "error",
     "traceback": [
      "\u001b[0;31m---------------------------------------------------------------------------\u001b[0m",
      "\u001b[0;31mPayeerAPIException\u001b[0m                        Traceback (most recent call last)",
      "Cell \u001b[0;32mIn[8], line 10\u001b[0m\n\u001b[1;32m      7\u001b[0m API_SECRET \u001b[38;5;241m=\u001b[39m \u001b[38;5;124m\"\u001b[39m\u001b[38;5;124mWpdg7!)csjFk-aT\u001b[39m\u001b[38;5;124m\"\u001b[39m  \u001b[38;5;66;03m# API Secret, указанный в настройках Payeer\u001b[39;00m\n\u001b[1;32m      9\u001b[0m \u001b[38;5;66;03m# Подключение к API\u001b[39;00m\n\u001b[0;32m---> 10\u001b[0m api \u001b[38;5;241m=\u001b[39m \u001b[43mPayeerAPI\u001b[49m\u001b[43m(\u001b[49m\u001b[43maccount\u001b[49m\u001b[38;5;241;43m=\u001b[39;49m\u001b[43mPAYEER_ACCOUNT\u001b[49m\u001b[43m,\u001b[49m\u001b[43m \u001b[49m\u001b[43mapiId\u001b[49m\u001b[38;5;241;43m=\u001b[39;49m\u001b[43mAPI_ID\u001b[49m\u001b[43m,\u001b[49m\u001b[43m \u001b[49m\u001b[43mapiPass\u001b[49m\u001b[38;5;241;43m=\u001b[39;49m\u001b[43mAPI_SECRET\u001b[49m\u001b[43m)\u001b[49m\n\u001b[1;32m     13\u001b[0m \u001b[38;5;28;01mdef\u001b[39;00m\u001b[38;5;250m \u001b[39m\u001b[38;5;21mcheck_balance\u001b[39m(amount, currency\u001b[38;5;241m=\u001b[39m\u001b[38;5;124m\"\u001b[39m\u001b[38;5;124mUSD\u001b[39m\u001b[38;5;124m\"\u001b[39m):\n\u001b[1;32m     14\u001b[0m \u001b[38;5;250m    \u001b[39m\u001b[38;5;124;03m\"\"\"\u001b[39;00m\n\u001b[1;32m     15\u001b[0m \u001b[38;5;124;03m    Проверяет поступление средств на баланс Payeer.\u001b[39;00m\n\u001b[1;32m     16\u001b[0m \u001b[38;5;124;03m    \"\"\"\u001b[39;00m\n",
      "File \u001b[0;32m~/Projects/freelance/automation-p2p-bybit-transactions/venv/lib/python3.12/site-packages/payeer_api/api.py:29\u001b[0m, in \u001b[0;36mPayeerAPI.__init__\u001b[0;34m(self, account, apiId, apiPass)\u001b[0m\n\u001b[1;32m     27\u001b[0m \u001b[38;5;28mself\u001b[39m\u001b[38;5;241m.\u001b[39mapi_url \u001b[38;5;241m=\u001b[39m \u001b[38;5;124m'\u001b[39m\u001b[38;5;124mhttps://payeer.com/ajax/api/api.php\u001b[39m\u001b[38;5;124m'\u001b[39m\n\u001b[1;32m     28\u001b[0m \u001b[38;5;28mself\u001b[39m\u001b[38;5;241m.\u001b[39mauth_data \u001b[38;5;241m=\u001b[39m {\u001b[38;5;124m'\u001b[39m\u001b[38;5;124maccount\u001b[39m\u001b[38;5;124m'\u001b[39m: \u001b[38;5;28mself\u001b[39m\u001b[38;5;241m.\u001b[39maccount, \u001b[38;5;124m'\u001b[39m\u001b[38;5;124mapiId\u001b[39m\u001b[38;5;124m'\u001b[39m: \u001b[38;5;28mself\u001b[39m\u001b[38;5;241m.\u001b[39mapiId, \u001b[38;5;124m'\u001b[39m\u001b[38;5;124mapiPass\u001b[39m\u001b[38;5;124m'\u001b[39m: \u001b[38;5;28mself\u001b[39m\u001b[38;5;241m.\u001b[39mapiPass}\n\u001b[0;32m---> 29\u001b[0m \u001b[38;5;28;43mself\u001b[39;49m\u001b[38;5;241;43m.\u001b[39;49m\u001b[43mauth_check\u001b[49m\u001b[43m(\u001b[49m\u001b[43m)\u001b[49m\n",
      "File \u001b[0;32m~/Projects/freelance/automation-p2p-bybit-transactions/venv/lib/python3.12/site-packages/payeer_api/api.py:48\u001b[0m, in \u001b[0;36mPayeerAPI.auth_check\u001b[0;34m(self)\u001b[0m\n\u001b[1;32m     43\u001b[0m \u001b[38;5;28;01mdef\u001b[39;00m\u001b[38;5;250m \u001b[39m\u001b[38;5;21mauth_check\u001b[39m(\u001b[38;5;28mself\u001b[39m):\n\u001b[1;32m     44\u001b[0m \u001b[38;5;250m    \u001b[39m\u001b[38;5;124;03m\"\"\"\u001b[39;00m\n\u001b[1;32m     45\u001b[0m \u001b[38;5;124;03m    Authorization Check\u001b[39;00m\n\u001b[1;32m     46\u001b[0m \u001b[38;5;124;03m    :return: True if auth is successful\u001b[39;00m\n\u001b[1;32m     47\u001b[0m \u001b[38;5;124;03m    \"\"\"\u001b[39;00m\n\u001b[0;32m---> 48\u001b[0m     \u001b[38;5;28;43mself\u001b[39;49m\u001b[38;5;241;43m.\u001b[39;49m\u001b[43mrequest\u001b[49m\u001b[43m(\u001b[49m\u001b[43m)\u001b[49m\n",
      "File \u001b[0;32m~/Projects/freelance/automation-p2p-bybit-transactions/venv/lib/python3.12/site-packages/payeer_api/api.py:39\u001b[0m, in \u001b[0;36mPayeerAPI.request\u001b[0;34m(self, **kwargs)\u001b[0m\n\u001b[1;32m     37\u001b[0m error \u001b[38;5;241m=\u001b[39m resp\u001b[38;5;241m.\u001b[39mget(\u001b[38;5;124m'\u001b[39m\u001b[38;5;124merrors\u001b[39m\u001b[38;5;124m'\u001b[39m)\n\u001b[1;32m     38\u001b[0m \u001b[38;5;28;01mif\u001b[39;00m error:\n\u001b[0;32m---> 39\u001b[0m     \u001b[38;5;28;01mraise\u001b[39;00m PayeerAPIException(error)\n\u001b[1;32m     40\u001b[0m \u001b[38;5;28;01melse\u001b[39;00m:\n\u001b[1;32m     41\u001b[0m     \u001b[38;5;28;01mreturn\u001b[39;00m resp\n",
      "\u001b[0;31mPayeerAPIException\u001b[0m: ['Auth error: account or apiId or apiPass is incorrect or api-user was blocked']"
     ]
    }
   ],
   "source": [
    "from payeer_api import PayeerAPI\n",
    "import time\n",
    "\n",
    "# Конфигурация API Payeer\n",
    "PAYEER_ACCOUNT = \"****\"  # Ваш Payeer ID\n",
    "API_ID = \"****\"  # API ID, указанный в настройках Payeer\n",
    "API_SECRET = \"********\"  # API Secret, указанный в настройках Payeer\n",
    "\n",
    "# Подключение к API\n",
    "api = PayeerAPI(account=PAYEER_ACCOUNT, apiId=API_ID, apiPass=API_SECRET)\n",
    "\n",
    "\n",
    "def check_balance(amount, currency=\"USD\"):\n",
    "    \"\"\"\n",
    "    Проверяет поступление средств на баланс Payeer.\n",
    "    \"\"\"\n",
    "    try:\n",
    "        response = api.balance()\n",
    "        if response[\"status\"] == \"success\":\n",
    "            balance = response[\"balances\"].get(currency, {}).get(\"D\", 0)  # D - доступный баланс\n",
    "            print(f\"Текущий баланс {currency}: {balance}\")\n",
    "            return float(balance) >= float(amount)\n",
    "        else:\n",
    "            print(\"Ошибка получения баланса:\", response)\n",
    "    except Exception as e:\n",
    "        print(f\"Ошибка при проверке баланса: {e}\")\n",
    "    return False\n",
    "\n",
    "\n",
    "def send_money(amount, to_wallet, currency=\"USD\", comment=\"\"):\n",
    "    \"\"\"\n",
    "    Отправляет средства на указанный кошелек Payeer.\n",
    "    \"\"\"\n",
    "    try:\n",
    "        response = api.transfer(\n",
    "            to_account=to_wallet,\n",
    "            amount=amount,\n",
    "            currency=currency,\n",
    "            comment=comment,\n",
    "            protect_code=\"\",  # Защита кода может быть пустой, если не используется\n",
    "        )\n",
    "        if response[\"status\"] == \"success\":\n",
    "            print(f\"Успешно отправлено {amount} {currency} на кошелек {to_wallet}.\")\n",
    "            return True\n",
    "        else:\n",
    "            print(\"Ошибка отправки средств:\", response)\n",
    "    except Exception as e:\n",
    "        print(f\"Ошибка при отправке средств: {e}\")\n",
    "    return False\n",
    "\n",
    "\n",
    "def main():\n",
    "    \"\"\"\n",
    "    Основной цикл программы: проверка поступлений и перевод средств.\n",
    "    \"\"\"\n",
    "    target_wallet = \"P2000000\"  # Кошелек для перевода\n",
    "    while True:\n",
    "        print(\"Проверяю поступления...\")\n",
    "        if check_balance(monitored_amount):\n",
    "            print(f\"На счет поступило {monitored_amount}. Отправляю средства...\")\n",
    "            if send_money(monitored_amount, target_wallet, comment=\"Оплата услуг\"):\n",
    "                print(\"Перевод завершен.\")\n",
    "                break\n",
    "        else:\n",
    "            print(\"Средства еще не поступили. Ожидание...\")\n",
    "        time.sleep(30)  # Проверка каждые 30 секунд\n",
    "\n",
    "\n",
    "monitored_amount = 10.00  # Сумма для мониторинга поступлений\n",
    "check_balance(monitored_amount)"
   ]
  },
  {
   "cell_type": "markdown",
   "metadata": {},
   "source": [
    "# Trade"
   ]
  },
  {
   "cell_type": "code",
   "execution_count": 11,
   "metadata": {},
   "outputs": [
    {
     "name": "stdout",
     "output_type": "stream",
     "text": [
      "{\"ts\": 1737135557998}\n"
     ]
    },
    {
     "ename": "TypeError",
     "evalue": "key: expected bytes or bytearray, but got 'str'",
     "output_type": "error",
     "traceback": [
      "\u001b[0;31m---------------------------------------------------------------------------\u001b[0m",
      "\u001b[0;31mTypeError\u001b[0m                                 Traceback (most recent call last)",
      "Cell \u001b[0;32mIn[11], line 15\u001b[0m\n\u001b[1;32m     10\u001b[0m req \u001b[38;5;241m=\u001b[39m json\u001b[38;5;241m.\u001b[39mdumps({\n\u001b[1;32m     11\u001b[0m \u001b[38;5;124m'\u001b[39m\u001b[38;5;124mts\u001b[39m\u001b[38;5;124m'\u001b[39m: ts,\n\u001b[1;32m     12\u001b[0m })\n\u001b[1;32m     13\u001b[0m \u001b[38;5;28mprint\u001b[39m(req)\n\u001b[0;32m---> 15\u001b[0m H \u001b[38;5;241m=\u001b[39m \u001b[43mhmac\u001b[49m\u001b[38;5;241;43m.\u001b[39;49m\u001b[43mnew\u001b[49m\u001b[43m(\u001b[49m\u001b[38;5;124;43m'\u001b[39;49m\u001b[38;5;124;43mapi_secret_key\u001b[39;49m\u001b[38;5;124;43m'\u001b[39;49m\u001b[43m,\u001b[49m\u001b[43m \u001b[49m\u001b[43mdigestmod\u001b[49m\u001b[38;5;241;43m=\u001b[39;49m\u001b[43mhashlib\u001b[49m\u001b[38;5;241;43m.\u001b[39;49m\u001b[43msha256\u001b[49m\u001b[43m)\u001b[49m\n\u001b[1;32m     16\u001b[0m H\u001b[38;5;241m.\u001b[39mupdate(method \u001b[38;5;241m+\u001b[39m req)\n\u001b[1;32m     17\u001b[0m sign \u001b[38;5;241m=\u001b[39m H\u001b[38;5;241m.\u001b[39mhexdigest()\n",
      "File \u001b[0;32m/usr/lib/python3.12/hmac.py:184\u001b[0m, in \u001b[0;36mnew\u001b[0;34m(key, msg, digestmod)\u001b[0m\n\u001b[1;32m    167\u001b[0m \u001b[38;5;28;01mdef\u001b[39;00m\u001b[38;5;250m \u001b[39m\u001b[38;5;21mnew\u001b[39m(key, msg\u001b[38;5;241m=\u001b[39m\u001b[38;5;28;01mNone\u001b[39;00m, digestmod\u001b[38;5;241m=\u001b[39m\u001b[38;5;124m'\u001b[39m\u001b[38;5;124m'\u001b[39m):\n\u001b[1;32m    168\u001b[0m \u001b[38;5;250m    \u001b[39m\u001b[38;5;124;03m\"\"\"Create a new hashing object and return it.\u001b[39;00m\n\u001b[1;32m    169\u001b[0m \n\u001b[1;32m    170\u001b[0m \u001b[38;5;124;03m    key: bytes or buffer, The starting key for the hash.\u001b[39;00m\n\u001b[0;32m   (...)\u001b[0m\n\u001b[1;32m    182\u001b[0m \u001b[38;5;124;03m    or hexdigest() methods.\u001b[39;00m\n\u001b[1;32m    183\u001b[0m \u001b[38;5;124;03m    \"\"\"\u001b[39;00m\n\u001b[0;32m--> 184\u001b[0m     \u001b[38;5;28;01mreturn\u001b[39;00m \u001b[43mHMAC\u001b[49m\u001b[43m(\u001b[49m\u001b[43mkey\u001b[49m\u001b[43m,\u001b[49m\u001b[43m \u001b[49m\u001b[43mmsg\u001b[49m\u001b[43m,\u001b[49m\u001b[43m \u001b[49m\u001b[43mdigestmod\u001b[49m\u001b[43m)\u001b[49m\n",
      "File \u001b[0;32m/usr/lib/python3.12/hmac.py:53\u001b[0m, in \u001b[0;36mHMAC.__init__\u001b[0;34m(self, key, msg, digestmod)\u001b[0m\n\u001b[1;32m     39\u001b[0m \u001b[38;5;250m\u001b[39m\u001b[38;5;124;03m\"\"\"Create a new HMAC object.\u001b[39;00m\n\u001b[1;32m     40\u001b[0m \n\u001b[1;32m     41\u001b[0m \u001b[38;5;124;03mkey: bytes or buffer, key for the keyed hash object.\u001b[39;00m\n\u001b[0;32m   (...)\u001b[0m\n\u001b[1;32m     49\u001b[0m \u001b[38;5;124;03m           recommended, though not required for legacy API reasons.\u001b[39;00m\n\u001b[1;32m     50\u001b[0m \u001b[38;5;124;03m\"\"\"\u001b[39;00m\n\u001b[1;32m     52\u001b[0m \u001b[38;5;28;01mif\u001b[39;00m \u001b[38;5;129;01mnot\u001b[39;00m \u001b[38;5;28misinstance\u001b[39m(key, (\u001b[38;5;28mbytes\u001b[39m, \u001b[38;5;28mbytearray\u001b[39m)):\n\u001b[0;32m---> 53\u001b[0m     \u001b[38;5;28;01mraise\u001b[39;00m \u001b[38;5;167;01mTypeError\u001b[39;00m(\u001b[38;5;124m\"\u001b[39m\u001b[38;5;124mkey: expected bytes or bytearray, but got \u001b[39m\u001b[38;5;132;01m%r\u001b[39;00m\u001b[38;5;124m\"\u001b[39m \u001b[38;5;241m%\u001b[39m \u001b[38;5;28mtype\u001b[39m(key)\u001b[38;5;241m.\u001b[39m\u001b[38;5;18m__name__\u001b[39m)\n\u001b[1;32m     55\u001b[0m \u001b[38;5;28;01mif\u001b[39;00m \u001b[38;5;129;01mnot\u001b[39;00m digestmod:\n\u001b[1;32m     56\u001b[0m     \u001b[38;5;28;01mraise\u001b[39;00m \u001b[38;5;167;01mTypeError\u001b[39;00m(\u001b[38;5;124m\"\u001b[39m\u001b[38;5;124mMissing required argument \u001b[39m\u001b[38;5;124m'\u001b[39m\u001b[38;5;124mdigestmod\u001b[39m\u001b[38;5;124m'\u001b[39m\u001b[38;5;124m.\u001b[39m\u001b[38;5;124m\"\u001b[39m)\n",
      "\u001b[0;31mTypeError\u001b[0m: key: expected bytes or bytearray, but got 'str'"
     ]
    }
   ],
   "source": [
    "import hashlib\n",
    "import hmac\n",
    "import time\n",
    "import json\n",
    "from urllib.request import urlopen, Request\n",
    "\n",
    "ts = int(round(time.time()*1000))\n",
    "\n",
    "method = 'account'\n",
    "req = json.dumps({\n",
    "    'ts': ts,\n",
    "})\n",
    "print(req)\n",
    "\n",
    "H = hmac.new('api_secret_key', digestmod=hashlib.sha256)\n",
    "H.update(method + req)\n",
    "sign = H.hexdigest()\n",
    "print(sign)\n",
    "\n",
    "headers = {\n",
    "    'Content-Type': 'application/json',\n",
    "    'API-ID': '***',\n",
    "    'API-SIGN': sign\n",
    "}\n",
    "\n",
    "request = request('https://payeer.com/api/trade/' +\n",
    "                  method, data=req, headers=headers)\n",
    "\n",
    "response_body = urlopen(request).read()\n",
    "print(response_body)"
   ]
  }
 ],
 "metadata": {
  "kernelspec": {
   "display_name": "venv",
   "language": "python",
   "name": "python3"
  },
  "language_info": {
   "codemirror_mode": {
    "name": "ipython",
    "version": 3
   },
   "file_extension": ".py",
   "mimetype": "text/x-python",
   "name": "python",
   "nbconvert_exporter": "python",
   "pygments_lexer": "ipython3",
   "version": "3.12.7"
  }
 },
 "nbformat": 4,
 "nbformat_minor": 2
}
